{
 "cells": [
  {
   "cell_type": "code",
   "execution_count": null,
   "metadata": {
    "execution": {
     "iopub.execute_input": "2025-03-09T07:42:55.258980Z",
     "iopub.status.busy": "2025-03-09T07:42:55.258800Z",
     "iopub.status.idle": "2025-03-09T07:42:59.080909Z",
     "shell.execute_reply": "2025-03-09T07:42:59.080139Z",
     "shell.execute_reply.started": "2025-03-09T07:42:55.258962Z"
    },
    "trusted": true
   },
   "outputs": [],
   "source": [
    "import torch\n",
    "\n",
    "# Kiểm tra số lượng GPU khả dụng\n",
    "print(\"Số lượng GPU khả dụng:\", torch.cuda.device_count())\n",
    "\n",
    "# Kiểm tra tên GPU\n",
    "for i in range(torch.cuda.device_count()):\n",
    "    print(f\"GPU {i}: {torch.cuda.get_device_name(i)}\")"
   ]
  },
  {
   "cell_type": "code",
   "execution_count": null,
   "metadata": {
    "execution": {
     "iopub.execute_input": "2025-03-09T07:42:59.082962Z",
     "iopub.status.busy": "2025-03-09T07:42:59.082413Z",
     "iopub.status.idle": "2025-03-09T07:43:05.779140Z",
     "shell.execute_reply": "2025-03-09T07:43:05.778145Z",
     "shell.execute_reply.started": "2025-03-09T07:42:59.082925Z"
    },
    "trusted": true
   },
   "outputs": [],
   "source": [
    "!pip install openai-clip\n"
   ]
  },
  {
   "cell_type": "code",
   "execution_count": null,
   "metadata": {
    "execution": {
     "iopub.execute_input": "2025-03-09T07:43:05.780849Z",
     "iopub.status.busy": "2025-03-09T07:43:05.780522Z",
     "iopub.status.idle": "2025-03-09T07:43:08.360392Z",
     "shell.execute_reply": "2025-03-09T07:43:08.359509Z",
     "shell.execute_reply.started": "2025-03-09T07:43:05.780825Z"
    },
    "trusted": true
   },
   "outputs": [],
   "source": [
    "import sys\n",
    "sys.path.append(\"/kaggle/input/test-n\")\n",
    "\n",
    "import other_utils\n",
    "import ddpm_utils\n",
    "import UNet_utils"
   ]
  },
  {
   "cell_type": "markdown",
   "metadata": {},
   "source": [
    "# 5. CLIP"
   ]
  },
  {
   "cell_type": "markdown",
   "metadata": {},
   "source": [
    "Contrastive Language-Image Pre-Training or [CLIP](https://github.com/openai/CLIP/tree/main) is a text and image encoding tool used with many popular Generative AI models such as [DALL-E](https://openai.com/dall-e-2) and [Stable Diffusion](https://github.com/Stability-AI/stablediffusion).\n",
    "\n",
    "CLIP in itself is not a Generative AI model, but is instead used to align text encodings with image encodings. If there is such a thing as the perfect text description of an image, the goal of CLIP is to create the same vector embedding for both the image and the text. Let's see what this means in practice.\n",
    "\n",
    "The goals of this notebook are to:\n",
    "* Learn how to use CLIP Encodings\n",
    "  * Get an image encoding\n",
    "  * Get a text encoding\n",
    "  * Calculate the cosine similarity between them\n",
    "* Use CLIP to create a text-to-image neural network\n",
    "\n",
    "## 5.1 Encodings\n",
    "\n",
    "First, let's load the libraries needed for this exercise."
   ]
  },
  {
   "cell_type": "code",
   "execution_count": 24,
   "metadata": {
    "execution": {
     "iopub.execute_input": "2025-03-09T07:43:08.361650Z",
     "iopub.status.busy": "2025-03-09T07:43:08.361237Z",
     "iopub.status.idle": "2025-03-09T07:43:08.365954Z",
     "shell.execute_reply": "2025-03-09T07:43:08.365154Z",
     "shell.execute_reply.started": "2025-03-09T07:43:08.361621Z"
    },
    "id": "MWn2WgPaIoz8",
    "trusted": true
   },
   "outputs": [],
   "source": [
    "import csv\n",
    "import glob\n",
    "import numpy as np\n",
    "import torch\n",
    "import torch.nn.functional as F\n",
    "from torch.optim import Adam\n",
    "import torchvision.transforms as transforms\n",
    "from torch.utils.data import Dataset, DataLoader\n",
    "\n",
    "# Visualization tools\n",
    "import matplotlib.pyplot as plt\n",
    "from PIL import Image\n",
    "from torchvision.utils import save_image, make_grid\n",
    "from textwrap import wrap"
   ]
  },
  {
   "cell_type": "markdown",
   "metadata": {},
   "source": [
    "There are a few different variations of CLIP based on popular image recognition neural networks:"
   ]
  },
  {
   "cell_type": "code",
   "execution_count": 25,
   "metadata": {
    "execution": {
     "iopub.execute_input": "2025-03-09T07:43:08.366937Z",
     "iopub.status.busy": "2025-03-09T07:43:08.366708Z",
     "iopub.status.idle": "2025-03-09T07:43:08.389807Z",
     "shell.execute_reply": "2025-03-09T07:43:08.389094Z",
     "shell.execute_reply.started": "2025-03-09T07:43:08.366917Z"
    },
    "trusted": true
   },
   "outputs": [
    {
     "data": {
      "text/plain": [
       "device(type='cuda')"
      ]
     },
     "execution_count": 25,
     "metadata": {},
     "output_type": "execute_result"
    }
   ],
   "source": [
    "device = torch.device(\"cuda\" if torch.cuda.is_available() else \"cpu\")\n",
    "device"
   ]
  },
  {
   "cell_type": "code",
   "execution_count": null,
   "metadata": {
    "execution": {
     "iopub.execute_input": "2025-03-09T07:43:08.392095Z",
     "iopub.status.busy": "2025-03-09T07:43:08.391860Z",
     "iopub.status.idle": "2025-03-09T07:43:08.766156Z",
     "shell.execute_reply": "2025-03-09T07:43:08.765464Z",
     "shell.execute_reply.started": "2025-03-09T07:43:08.392075Z"
    },
    "trusted": true
   },
   "outputs": [],
   "source": [
    "import clip\n",
    "print(clip.available_models())  # Kiểm tra danh sách mô hình CLIP có sẵn\n",
    "clip_model, clip_preprocess = clip.load(\"ViT-B/32\")"
   ]
  },
  {
   "cell_type": "code",
   "execution_count": null,
   "metadata": {
    "execution": {
     "iopub.execute_input": "2025-03-09T07:43:08.767687Z",
     "iopub.status.busy": "2025-03-09T07:43:08.767460Z",
     "iopub.status.idle": "2025-03-09T07:43:15.780109Z",
     "shell.execute_reply": "2025-03-09T07:43:15.779162Z",
     "shell.execute_reply.started": "2025-03-09T07:43:08.767668Z"
    },
    "trusted": true
   },
   "outputs": [],
   "source": [
    "\n",
    "clip_model.eval()\n",
    "CLIP_FEATURES = 512"
   ]
  },
  {
   "cell_type": "markdown",
   "metadata": {},
   "source": [
    "For this notebook, we will be using `ViT-B/32`, which is based on the [Vision Transformer](https://huggingface.co/docs/transformers/main/model_doc/vit) architecture. It has `512` features, which we will later feed into our diffusion model."
   ]
  },
  {
   "cell_type": "markdown",
   "metadata": {},
   "source": [
    "### 5.1.1 Image Encodings"
   ]
  },
  {
   "cell_type": "markdown",
   "metadata": {},
   "source": [
    "When we load CLIP, it will also come with a set of image transformations we can use to feed images into the CLIP model:"
   ]
  },
  {
   "cell_type": "code",
   "execution_count": null,
   "metadata": {
    "execution": {
     "iopub.execute_input": "2025-03-09T07:43:15.781330Z",
     "iopub.status.busy": "2025-03-09T07:43:15.781065Z",
     "iopub.status.idle": "2025-03-09T07:43:15.785944Z",
     "shell.execute_reply": "2025-03-09T07:43:15.785152Z",
     "shell.execute_reply.started": "2025-03-09T07:43:15.781296Z"
    },
    "trusted": true
   },
   "outputs": [],
   "source": [
    "clip_preprocess"
   ]
  },
  {
   "cell_type": "markdown",
   "metadata": {},
   "source": [
    "We can test this on one of our flower photos. Let's start with a picturesque daisy."
   ]
  },
  {
   "cell_type": "code",
   "execution_count": null,
   "metadata": {
    "execution": {
     "iopub.execute_input": "2025-03-09T07:43:15.787156Z",
     "iopub.status.busy": "2025-03-09T07:43:15.786878Z",
     "iopub.status.idle": "2025-03-09T07:43:15.882588Z",
     "shell.execute_reply": "2025-03-09T07:43:15.881774Z",
     "shell.execute_reply.started": "2025-03-09T07:43:15.787128Z"
    },
    "trusted": true
   },
   "outputs": [],
   "source": [
    "DATA_DIR = \"/kaggle/input/hoahoa/flower_photos/\"\n",
    "img_path = DATA_DIR + \"daisy/2877860110_a842f8b14a_m.jpg\"\n",
    "img = Image.open(img_path)\n",
    "img.show()"
   ]
  },
  {
   "cell_type": "markdown",
   "metadata": {},
   "source": [
    "We can find the CLIP embedding by first transforming our image with `clip_preprocess` and converting the result to a tensor. Since the `clip_model` expects a batch of images, we can use [np.stack](https://numpy.org/doc/stable/reference/generated/numpy.stack.html) to turn the processed image into a single element batch."
   ]
  },
  {
   "cell_type": "code",
   "execution_count": null,
   "metadata": {
    "execution": {
     "iopub.execute_input": "2025-03-09T07:43:15.883728Z",
     "iopub.status.busy": "2025-03-09T07:43:15.883451Z",
     "iopub.status.idle": "2025-03-09T07:43:15.907240Z",
     "shell.execute_reply": "2025-03-09T07:43:15.906526Z",
     "shell.execute_reply.started": "2025-03-09T07:43:15.883701Z"
    },
    "trusted": true
   },
   "outputs": [],
   "source": [
    "clip_imgs = torch.tensor(np.stack([clip_preprocess(img)])).to(device)\n",
    "clip_imgs.size()"
   ]
  },
  {
   "cell_type": "markdown",
   "metadata": {},
   "source": [
    "Then, we can pass the batch to `clip_model.encode_image` to find the embedding for the image. Uncomment `clip_img_encoding` if you would like to see what an encoding looks like. When we print the size, it lists `512` features for our `1` image."
   ]
  },
  {
   "cell_type": "code",
   "execution_count": null,
   "metadata": {
    "execution": {
     "iopub.execute_input": "2025-03-09T07:43:15.908411Z",
     "iopub.status.busy": "2025-03-09T07:43:15.908098Z",
     "iopub.status.idle": "2025-03-09T07:43:16.801984Z",
     "shell.execute_reply": "2025-03-09T07:43:16.801225Z",
     "shell.execute_reply.started": "2025-03-09T07:43:15.908358Z"
    },
    "trusted": true
   },
   "outputs": [],
   "source": [
    "clip_img_encoding = clip_model.encode_image(clip_imgs)\n",
    "print(clip_img_encoding.size())\n",
    "#clip_img_encoding"
   ]
  },
  {
   "cell_type": "markdown",
   "metadata": {},
   "source": [
    "### 5.1.2 Text Encodings"
   ]
  },
  {
   "cell_type": "markdown",
   "metadata": {},
   "source": [
    "Now that we have an image encoding, let's see if we can get a matching text encoding. Below is a list of different flower descriptions. Like with the images, the text needs to be preprocessed before it can be encoded by CLIP. To do this, CLIP comes with a `tokenize` function in order to convert each word into an integer."
   ]
  },
  {
   "cell_type": "code",
   "execution_count": null,
   "metadata": {
    "execution": {
     "iopub.execute_input": "2025-03-09T07:43:16.803394Z",
     "iopub.status.busy": "2025-03-09T07:43:16.803013Z",
     "iopub.status.idle": "2025-03-09T07:43:16.819448Z",
     "shell.execute_reply": "2025-03-09T07:43:16.818654Z",
     "shell.execute_reply.started": "2025-03-09T07:43:16.803351Z"
    },
    "trusted": true
   },
   "outputs": [],
   "source": [
    "text_list = [\n",
    "    \"A white daisy with a yellow center\",\n",
    "    \"An orange sunflower with a big brown center\",\n",
    "    \"A red rose bud\"\n",
    "]\n",
    "text_tokens = clip.tokenize(text_list).to(device)\n",
    "text_tokens"
   ]
  },
  {
   "cell_type": "markdown",
   "metadata": {},
   "source": [
    "Then, we can pass the tokens to `encode_text` to get our text encodings. Uncomment `clip_text_encodings` if you would like to see what an encoding looks like. Similar to our image encoding, there are `512` features for each of our `3` images."
   ]
  },
  {
   "cell_type": "code",
   "execution_count": null,
   "metadata": {
    "execution": {
     "iopub.execute_input": "2025-03-09T07:43:16.820406Z",
     "iopub.status.busy": "2025-03-09T07:43:16.820135Z",
     "iopub.status.idle": "2025-03-09T07:43:16.974554Z",
     "shell.execute_reply": "2025-03-09T07:43:16.973584Z",
     "shell.execute_reply.started": "2025-03-09T07:43:16.820386Z"
    },
    "trusted": true
   },
   "outputs": [],
   "source": [
    "clip_text_encodings = clip_model.encode_text(text_tokens).float()\n",
    "print(clip_text_encodings.size())\n",
    "#clip_text_encodings"
   ]
  },
  {
   "cell_type": "markdown",
   "metadata": {},
   "source": [
    "### 5.1.3 Similarity"
   ]
  },
  {
   "cell_type": "markdown",
   "metadata": {},
   "source": [
    "In order to see which one of our text descriptions best describes the daisy, we can calculate the [cosine similarity](https://medium.com/@milana.shxanukova15/cosine-distance-and-cosine-similarity-a5da0e4d9ded) between the text encodings and the image encodings. When the cosine similarity is `1`, it's a perfect match. When the cosine similarity is `-1`, the two encodings are opposites.\n",
    "\n",
    "The cosine similarity is equivalent to a [dot product](https://mathworld.wolfram.com/DotProduct.html) with each vector normalized by their magnitude. In other words, the magnitude of each vector becomes `1`.\n",
    "\n",
    "We can use the following formula to calculate the dot product:\n",
    "\n",
    "$X \\cdot Y = \\sum_{i=1}^{n} x_i y_i = x_1y_1 + x_2 y_2 + \\cdots  + x_n y_n$"
   ]
  },
  {
   "cell_type": "code",
   "execution_count": null,
   "metadata": {
    "execution": {
     "iopub.execute_input": "2025-03-09T07:43:16.975887Z",
     "iopub.status.busy": "2025-03-09T07:43:16.975555Z",
     "iopub.status.idle": "2025-03-09T07:43:17.223606Z",
     "shell.execute_reply": "2025-03-09T07:43:17.222889Z",
     "shell.execute_reply.started": "2025-03-09T07:43:16.975857Z"
    },
    "trusted": true
   },
   "outputs": [],
   "source": [
    "clip_img_encoding /= clip_img_encoding.norm(dim=-1, keepdim=True)\n",
    "clip_text_encodings /= clip_text_encodings.norm(dim=-1, keepdim=True)\n",
    "similarity = (clip_text_encodings * clip_img_encoding).sum(-1)\n",
    "similarity"
   ]
  },
  {
   "cell_type": "markdown",
   "metadata": {},
   "source": [
    "What do you think? Does the most descriptive text get the highest score?"
   ]
  },
  {
   "cell_type": "code",
   "execution_count": null,
   "metadata": {
    "execution": {
     "iopub.execute_input": "2025-03-09T07:43:17.224607Z",
     "iopub.status.busy": "2025-03-09T07:43:17.224391Z",
     "iopub.status.idle": "2025-03-09T07:43:17.234681Z",
     "shell.execute_reply": "2025-03-09T07:43:17.234034Z",
     "shell.execute_reply.started": "2025-03-09T07:43:17.224590Z"
    },
    "trusted": true
   },
   "outputs": [],
   "source": [
    "for idx, text in enumerate(text_list):\n",
    "    print(text, \" - \", similarity[idx])"
   ]
  },
  {
   "cell_type": "markdown",
   "metadata": {},
   "source": [
    "Let's practice a little more. Below, we've added a sunflower and a rose image."
   ]
  },
  {
   "cell_type": "code",
   "execution_count": null,
   "metadata": {
    "execution": {
     "iopub.execute_input": "2025-03-09T07:43:17.235809Z",
     "iopub.status.busy": "2025-03-09T07:43:17.235572Z",
     "iopub.status.idle": "2025-03-09T07:43:17.374910Z",
     "shell.execute_reply": "2025-03-09T07:43:17.373836Z",
     "shell.execute_reply.started": "2025-03-09T07:43:17.235791Z"
    },
    "trusted": true
   },
   "outputs": [],
   "source": [
    "img_paths = [\n",
    "    DATA_DIR + \"daisy/2877860110_a842f8b14a_m.jpg\",\n",
    "    DATA_DIR + \"sunflowers/2721638730_34a9b7a78b.jpg\",\n",
    "    DATA_DIR + \"roses/8032328803_30afac8b07_m.jpg\"\n",
    "]\n",
    "\n",
    "imgs = [Image.open(path) for path in img_paths]\n",
    "for img in imgs:\n",
    "    img.show()"
   ]
  },
  {
   "cell_type": "markdown",
   "metadata": {},
   "source": [
    "**TODO**: The below `get_img_encodings` function is riddled with `FIXMEs`. Please replace each `FIXME` with the appropriate code to generate CLIP encodings from PIL images.\n",
    "\n",
    "Click the `...` for an answer."
   ]
  },
  {
   "cell_type": "code",
   "execution_count": null,
   "metadata": {
    "execution": {
     "iopub.execute_input": "2025-03-09T07:43:17.376044Z",
     "iopub.status.busy": "2025-03-09T07:43:17.375718Z",
     "iopub.status.idle": "2025-03-09T07:43:17.381138Z",
     "shell.execute_reply": "2025-03-09T07:43:17.379877Z",
     "shell.execute_reply.started": "2025-03-09T07:43:17.376012Z"
    },
    "trusted": true
   },
   "outputs": [],
   "source": [
    "def get_img_encodings(imgs):\n",
    "    processed_imgs = [FIXME(img) for img in imgs]\n",
    "    clip_imgs = torch.tensor(np.stack(FIXME)).to(device)\n",
    "    clip_img_encodings = FIXME.encode_image(clip_imgs)\n",
    "    return clip_img_encodings"
   ]
  },
  {
   "cell_type": "code",
   "execution_count": null,
   "metadata": {
    "execution": {
     "iopub.execute_input": "2025-03-09T07:43:17.385806Z",
     "iopub.status.busy": "2025-03-09T07:43:17.385585Z",
     "iopub.status.idle": "2025-03-09T07:43:17.402149Z",
     "shell.execute_reply": "2025-03-09T07:43:17.401158Z",
     "shell.execute_reply.started": "2025-03-09T07:43:17.385786Z"
    },
    "jupyter": {
     "source_hidden": true
    },
    "trusted": true
   },
   "outputs": [],
   "source": [
    "def get_img_encodings(imgs):\n",
    "    processed_imgs = [clip_preprocess(img) for img in imgs]\n",
    "    clip_imgs = torch.tensor(np.stack(processed_imgs)).to(device)\n",
    "    clip_img_encodings = clip_model.encode_image(clip_imgs)\n",
    "    return clip_img_encodings"
   ]
  },
  {
   "cell_type": "code",
   "execution_count": null,
   "metadata": {
    "execution": {
     "iopub.execute_input": "2025-03-09T07:43:17.404340Z",
     "iopub.status.busy": "2025-03-09T07:43:17.404104Z",
     "iopub.status.idle": "2025-03-09T07:43:17.449365Z",
     "shell.execute_reply": "2025-03-09T07:43:17.448761Z",
     "shell.execute_reply.started": "2025-03-09T07:43:17.404298Z"
    },
    "trusted": true
   },
   "outputs": [],
   "source": [
    "clip_img_encodings = get_img_encodings(imgs)\n",
    "clip_img_encodings"
   ]
  },
  {
   "cell_type": "markdown",
   "metadata": {},
   "source": [
    "**TODO**: Find text that describes the above images well and will result in a high similarity score. After calculating the similarity score, feel free to repeat this exercise and modify. We will be using this text list again later.\n",
    "\n",
    "Click the `...` for an example."
   ]
  },
  {
   "cell_type": "code",
   "execution_count": null,
   "metadata": {
    "execution": {
     "iopub.execute_input": "2025-03-09T07:43:17.450191Z",
     "iopub.status.busy": "2025-03-09T07:43:17.449983Z",
     "iopub.status.idle": "2025-03-09T07:43:17.453077Z",
     "shell.execute_reply": "2025-03-09T07:43:17.452404Z",
     "shell.execute_reply.started": "2025-03-09T07:43:17.450173Z"
    },
    "trusted": true
   },
   "outputs": [],
   "source": [
    "# text_list = [\n",
    "#     \"A daisy\",\n",
    "#     \"A sunflower\",\n",
    "#     \"A rose\"\n",
    "# ]"
   ]
  },
  {
   "cell_type": "markdown",
   "metadata": {},
   "source": [
    "```python\n",
    "text_list = [\n",
    "    \"A white daisy with a yellow center\",\n",
    "    \"An orange sunflower with a big brown center\",\n",
    "    \"A deep red rose flower\"\n",
    "]\n",
    "```"
   ]
  },
  {
   "cell_type": "code",
   "execution_count": null,
   "metadata": {
    "execution": {
     "iopub.execute_input": "2025-03-09T07:43:17.453968Z",
     "iopub.status.busy": "2025-03-09T07:43:17.453740Z",
     "iopub.status.idle": "2025-03-09T07:43:17.468185Z",
     "shell.execute_reply": "2025-03-09T07:43:17.467401Z",
     "shell.execute_reply.started": "2025-03-09T07:43:17.453950Z"
    },
    "trusted": true
   },
   "outputs": [],
   "source": [
    "# text_tokens = clip.tokenize(text_list).to(device)\n",
    "# clip_text_encodings = clip_model.encode_text(text_tokens).float()\n",
    "# clip_text_encodings"
   ]
  },
  {
   "cell_type": "markdown",
   "metadata": {},
   "source": [
    "It would be nice to compare each combination of text and image. To do so, we can [repeat](https://pytorch.org/docs/stable/generated/torch.Tensor.repeat.html#torch.Tensor.repeat) each text encoding for each image encoding. Similarly, we can [repeat_interleave](https://pytorch.org/docs/stable/generated/torch.repeat_interleave.html) each image encoding for each text encoding."
   ]
  },
  {
   "cell_type": "code",
   "execution_count": null,
   "metadata": {
    "execution": {
     "iopub.execute_input": "2025-03-09T07:43:17.469221Z",
     "iopub.status.busy": "2025-03-09T07:43:17.468963Z",
     "iopub.status.idle": "2025-03-09T07:43:17.484566Z",
     "shell.execute_reply": "2025-03-09T07:43:17.483738Z",
     "shell.execute_reply.started": "2025-03-09T07:43:17.469189Z"
    },
    "trusted": true
   },
   "outputs": [],
   "source": [
    "clip_img_encodings /= clip_img_encodings.norm(dim=-1, keepdim=True)\n",
    "clip_text_encodings /= clip_text_encodings.norm(dim=-1, keepdim=True)\n",
    "\n",
    "n_imgs = len(imgs)\n",
    "n_text = len(text_list)"
   ]
  },
  {
   "cell_type": "code",
   "execution_count": null,
   "metadata": {
    "execution": {
     "iopub.execute_input": "2025-03-09T07:43:17.485659Z",
     "iopub.status.busy": "2025-03-09T07:43:17.485379Z",
     "iopub.status.idle": "2025-03-09T07:43:17.497983Z",
     "shell.execute_reply": "2025-03-09T07:43:17.497324Z",
     "shell.execute_reply.started": "2025-03-09T07:43:17.485640Z"
    },
    "trusted": true
   },
   "outputs": [],
   "source": [
    "# repeated_clip_text_encodings = clip_text_encodings.repeat(n_imgs, 1)\n",
    "# repeated_clip_text_encodings"
   ]
  },
  {
   "cell_type": "code",
   "execution_count": null,
   "metadata": {
    "execution": {
     "iopub.execute_input": "2025-03-09T07:43:17.499155Z",
     "iopub.status.busy": "2025-03-09T07:43:17.498859Z",
     "iopub.status.idle": "2025-03-09T07:43:17.518732Z",
     "shell.execute_reply": "2025-03-09T07:43:17.517876Z",
     "shell.execute_reply.started": "2025-03-09T07:43:17.499136Z"
    },
    "trusted": true
   },
   "outputs": [],
   "source": [
    "repeated_clip_img_encoding = clip_img_encodings.repeat_interleave(n_text, dim=0)\n",
    "repeated_clip_img_encoding"
   ]
  },
  {
   "cell_type": "code",
   "execution_count": null,
   "metadata": {
    "execution": {
     "iopub.execute_input": "2025-03-09T07:43:17.519674Z",
     "iopub.status.busy": "2025-03-09T07:43:17.519450Z",
     "iopub.status.idle": "2025-03-09T07:43:17.522936Z",
     "shell.execute_reply": "2025-03-09T07:43:17.522174Z",
     "shell.execute_reply.started": "2025-03-09T07:43:17.519655Z"
    },
    "trusted": true
   },
   "outputs": [],
   "source": [
    "# similarity = (repeated_clip_text_encodings * repeated_clip_img_encoding).sum(-1)\n",
    "# similarity = torch.unflatten(similarity, 0, (n_text, n_imgs))\n",
    "# similarity"
   ]
  },
  {
   "cell_type": "markdown",
   "metadata": {},
   "source": [
    "Let's compare. Ideally, the diagonal from the top left to the bottom right should be a bright yellow corresponding to their high value. The rest of the values should be low and blue."
   ]
  },
  {
   "cell_type": "code",
   "execution_count": null,
   "metadata": {
    "execution": {
     "iopub.execute_input": "2025-03-09T07:43:17.524033Z",
     "iopub.status.busy": "2025-03-09T07:43:17.523764Z",
     "iopub.status.idle": "2025-03-09T07:43:17.535917Z",
     "shell.execute_reply": "2025-03-09T07:43:17.535236Z",
     "shell.execute_reply.started": "2025-03-09T07:43:17.524007Z"
    },
    "trusted": true
   },
   "outputs": [],
   "source": [
    "# fig = plt.figure(figsize=(10, 10))\n",
    "# gs = fig.add_gridspec(2, 3, wspace=.1, hspace=0)\n",
    "\n",
    "# for i, img in enumerate(imgs):\n",
    "#     ax = fig.add_subplot(gs[0, i])\n",
    "#     ax.axis(\"off\")\n",
    "#     plt.imshow(img)\n",
    "\n",
    "# ax = fig.add_subplot(gs[1, :])\n",
    "# plt.imshow(similarity.detach().cpu().numpy().T, vmin=0.1, vmax=0.3)\n",
    "\n",
    "# labels = [ '\\n'.join(wrap(text, 20)) for text in text_list ]\n",
    "# plt.yticks(range(n_text), labels, fontsize=10)\n",
    "# plt.xticks([])\n",
    "\n",
    "# for x in range(similarity.shape[1]):\n",
    "#     for y in range(similarity.shape[0]):\n",
    "#         plt.text(x, y, f\"{similarity[x, y]:.2f}\", ha=\"center\", va=\"center\", size=12)"
   ]
  },
  {
   "cell_type": "markdown",
   "metadata": {},
   "source": [
    "## 5.2 A CLIP Dataset"
   ]
  },
  {
   "cell_type": "markdown",
   "metadata": {},
   "source": [
    "In the previous notebook, we used the flower category as the label. This time, we're going to use CLIP encodings as our label.\n",
    "\n",
    "If the goal of CLIP is to align text encodings with image encodings, do we need a text description for each of the images in our dataset? Hypothesis: we do not need text descriptions and only need the image CLIP encodings to create a text-to-image pipeline.\n",
    "\n",
    "To test this out, let's add the CLIP encodings as the \"label\" to our dataset. Running CLIP on each batch of data augmented images would be more accurate, but it is also slower. We can speed things up by preprocessing and storing the encodings ahead of time.\n",
    "\n",
    "We can use [glob](https://docs.python.org/3/library/glob.html) to list all of our image filepaths:"
   ]
  },
  {
   "cell_type": "code",
   "execution_count": null,
   "metadata": {
    "execution": {
     "iopub.execute_input": "2025-03-09T07:43:17.536850Z",
     "iopub.status.busy": "2025-03-09T07:43:17.536562Z",
     "iopub.status.idle": "2025-03-09T07:43:17.646513Z",
     "shell.execute_reply": "2025-03-09T07:43:17.645893Z",
     "shell.execute_reply.started": "2025-03-09T07:43:17.536830Z"
    },
    "trusted": true
   },
   "outputs": [],
   "source": [
    "data_paths = glob.glob(DATA_DIR + '*/*.jpg', recursive=True)\n",
    "data_paths[:5]"
   ]
  },
  {
   "cell_type": "markdown",
   "metadata": {},
   "source": [
    "The next code block runs the following loop for each filepath:\n",
    "* Open the image associated with the path and store it in `img`\n",
    "* Preprocess the image, find the CLIP encoding, and store it in `clip_img`\n",
    "* Convert the CLIP encoding from a tensor to a python list\n",
    "* Store the filepath and the CLIP encoding as a row in a csv file"
   ]
  },
  {
   "cell_type": "code",
   "execution_count": null,
   "metadata": {
    "execution": {
     "iopub.execute_input": "2025-03-09T07:43:17.647418Z",
     "iopub.status.busy": "2025-03-09T07:43:17.647167Z",
     "iopub.status.idle": "2025-03-09T07:44:30.256266Z",
     "shell.execute_reply": "2025-03-09T07:44:30.255372Z",
     "shell.execute_reply.started": "2025-03-09T07:43:17.647390Z"
    },
    "trusted": true
   },
   "outputs": [],
   "source": [
    "csv_path = 'clip.csv'\n",
    "\n",
    "with open(csv_path, 'w', newline='') as csvfile:\n",
    "    writer = csv.writer(csvfile, delimiter=',')\n",
    "    for idx, path in enumerate(data_paths):\n",
    "        img = Image.open(path)\n",
    "        clip_img = torch.tensor(np.stack([clip_preprocess(img)])).to(device)\n",
    "        label = clip_model.encode_image(clip_img)[0].tolist()\n",
    "        writer.writerow([path] + label)"
   ]
  },
  {
   "cell_type": "markdown",
   "metadata": {},
   "source": [
    "It may take a few seconds to process the full dataset. When complete, open [clip.csv](clip.csv) to see the results.\n",
    "\n",
    "We can use the same image transformations as we did with the other notebook:"
   ]
  },
  {
   "cell_type": "code",
   "execution_count": 26,
   "metadata": {
    "execution": {
     "iopub.execute_input": "2025-03-09T07:44:30.257462Z",
     "iopub.status.busy": "2025-03-09T07:44:30.257163Z",
     "iopub.status.idle": "2025-03-09T07:44:30.262258Z",
     "shell.execute_reply": "2025-03-09T07:44:30.261491Z",
     "shell.execute_reply.started": "2025-03-09T07:44:30.257432Z"
    },
    "trusted": true
   },
   "outputs": [],
   "source": [
    "IMG_SIZE = 32 # Due to stride and pooling, must be divisible by 2 multiple times\n",
    "IMG_CH = 3\n",
    "BATCH_SIZE = 128*4\n",
    "INPUT_SIZE = (IMG_CH, IMG_SIZE, IMG_SIZE)\n",
    "\n",
    "pre_transforms = [\n",
    "    transforms.Resize(IMG_SIZE),\n",
    "    transforms.ToTensor(),  # Scales data into [0,1]\n",
    "    transforms.Lambda(lambda t: (t * 2) - 1)  # Scale between [-1, 1]\n",
    "]\n",
    "pre_transforms = transforms.Compose(pre_transforms)\n",
    "random_transforms = [\n",
    "    transforms.RandomCrop(IMG_SIZE),\n",
    "    transforms.RandomHorizontalFlip(),\n",
    "]\n",
    "random_transforms = transforms.Compose(random_transforms)"
   ]
  },
  {
   "cell_type": "markdown",
   "metadata": {},
   "source": [
    "Below is the code to initialize our new dataset. Since we've `preprocessed_clip`, we will preload it onto our GPU with the `__init__` function. We've kept the \"on the fly\" CLIP encoding as an example. It will produce slightly better results, but it is much slower."
   ]
  },
  {
   "cell_type": "code",
   "execution_count": null,
   "metadata": {},
   "outputs": [],
   "source": [
    "#dọc được link ảnh\n",
    "#dọc được text của ảnh đó\n",
    "#chuyển nó thành dạng (C,T,D)"
   ]
  },
  {
   "cell_type": "code",
   "execution_count": 36,
   "metadata": {},
   "outputs": [
    {
     "name": "stdout",
     "output_type": "stream",
     "text": [
      "tensor([[[ 0.3393,  0.1165,  0.1020,  ...,  0.2468,  0.5906,  0.1013],\n",
      "         [ 1.9753, -0.5844,  0.3685,  ...,  1.1658,  0.8050, -0.9801],\n",
      "         [-0.1366, -0.4112,  1.4093,  ...,  0.2005,  0.2695, -1.4270],\n",
      "         ...,\n",
      "         [ 0.0000,  0.0000,  0.0000,  ..., -0.0000,  0.0000,  0.0000],\n",
      "         [ 0.0000,  0.0000,  0.0000,  ..., -0.0000,  0.0000,  0.0000],\n",
      "         [ 0.0000,  0.0000,  0.0000,  ..., -0.0000,  0.0000,  0.0000]]],\n",
      "       device='cuda:0')\n"
     ]
    }
   ],
   "source": [
    "from transformers import CLIPProcessor, CLIPModel\n",
    "# Hàm chuyển từ chữ thành vectoembedingembeding\n",
    "import torch\n",
    "from transformers import CLIPProcessor, CLIPModel\n",
    "DIR = 'naruto_images/'\n",
    "list_texts = []\n",
    "list_imgs = []\n",
    "file_path = 'captions.json'\n",
    "device = \"cuda\" if torch.cuda.is_available() else \"cpu\"\n",
    "\n",
    "# Văn bản đầu vào\n",
    "text = [\"A dog playing in the parkwg g rf\"]\n",
    "\n",
    "\n",
    "# 🔥 Dùng transformers (cho (B, T, 512))\n",
    "processor = CLIPProcessor.from_pretrained(\"openai/clip-vit-base-patch32\")\n",
    "clip_model_hf = CLIPModel.from_pretrained(\"openai/clip-vit-base-patch32\").to(device)\n",
    "# Hàm khởi tạo embeding.\n",
    "def clip_encode(text, processor, device):\n",
    "    inputs = processor(\n",
    "        text=text, \n",
    "        return_tensors=\"pt\", \n",
    "        padding=\"max_length\",  # Đồng nhất T\n",
    "        truncation=True, \n",
    "        max_length=20, \n",
    "        return_attention_mask=True  # Tạo mask\n",
    "        ).to(device)\n",
    "    with torch.no_grad():\n",
    "        outputs = clip_model_hf.text_model(**inputs)\n",
    "\n",
    "    text_features_hf = outputs.last_hidden_state  # (B, T, 512)\n",
    "    #K * attention_mask.unsqueeze(-1)\n",
    "    return text_features_hf * inputs[\"attention_mask\"].unsqueeze(-1) #attention_mask\n",
    "fea= clip_encode(text, processor, device)\n",
    "print(fea)"
   ]
  },
  {
   "cell_type": "code",
   "execution_count": null,
   "metadata": {},
   "outputs": [],
   "source": []
  },
  {
   "cell_type": "code",
   "execution_count": null,
   "metadata": {
    "execution": {
     "iopub.execute_input": "2025-03-09T07:44:30.263279Z",
     "iopub.status.busy": "2025-03-09T07:44:30.263073Z",
     "iopub.status.idle": "2025-03-09T07:44:30.280500Z",
     "shell.execute_reply": "2025-03-09T07:44:30.279689Z",
     "shell.execute_reply.started": "2025-03-09T07:44:30.263258Z"
    },
    "trusted": true
   },
   "outputs": [],
   "source": [
    "import json\n",
    "from PIL import Image\n",
    "import torch\n",
    "from transformers import CLIPProcessor, CLIPModel\n",
    "# Hàm chuyển từ chữ thành vectoembedingembeding\n",
    "import torch\n",
    "from transformers import CLIPProcessor, CLIPModel\n",
    "DIR = 'naruto_images/'\n",
    "file_path = 'captions.json'\n",
    "device = \"cuda\" if torch.cuda.is_available() else \"cpu\"\n",
    "\n",
    "# Văn bản đầu vào\n",
    "text = [\"A dog playing in the park\"]\n",
    "\n",
    "\n",
    "# 🔥 Dùng transformers (cho (B, T, 512))\n",
    "processor = CLIPProcessor.from_pretrained(\"openai/clip-vit-base-patch32\")\n",
    "clip_model_hf = CLIPModel.from_pretrained(\"openai/clip-vit-base-patch32\").to(device)\n",
    "# Hàm khởi tạo embeding.\n",
    "def clip_encode(text, processor, device):\n",
    "    inputs = processor(\n",
    "        text=text, \n",
    "        return_tensors=\"pt\", \n",
    "        padding=\"max_length\",  # Đồng nhất T\n",
    "        truncation=True, \n",
    "        max_length=20, \n",
    "        return_attention_mask=True  # Tạo mask\n",
    "        ).to(device)\n",
    "    with torch.no_grad():\n",
    "        outputs = clip_model_hf.text_model(**inputs)\n",
    "\n",
    "    text_features_hf = outputs.last_hidden_state  # (B, T, 512)\n",
    "    #K * attention_mask.unsqueeze(-1)\n",
    "    return text_features_hf * inputs[\"attention_mask\"].unsqueeze(-1)\n",
    "#build đoc dataset\n",
    "class MyDataset(Dataset):\n",
    "    def __init__(self, file_path, preprocessed_clip=True):\n",
    "        self.imgs = []\n",
    "        self.labels = []\n",
    "        self.preprocessed_clip = preprocessed_clip\n",
    "        \n",
    "        with open(file_path,'r',encoding='utf-8' ) as file:\n",
    "            reader = json.load(file)\n",
    "            for item in reader:\n",
    "                img = Image.open(DIR+item['image']).convert('RGB')\n",
    "                self.imgs.append(pre_transforms(img).to(device))\n",
    "                if preprocessed_clip:\n",
    "                    label = clip_encode(item['caption'],processor, device).to(device)\n",
    "                    self.labels.append(label)\n",
    "\n",
    "    def __getitem__(self, idx):\n",
    "        img = random_transforms(self.imgs[idx])\n",
    "        if self.preprocessed_clip:\n",
    "            label = self.labels[idx]\n",
    "        else:\n",
    "            batch_img = img[None, :, :, :]\n",
    "            encoded_imgs = clip_model.encode_image(clip_preprocess(batch_img))\n",
    "            label = encoded_imgs.to(device).float()[0]\n",
    "        return img, label\n",
    "\n",
    "    def __len__(self):\n",
    "        return len(self.imgs)"
   ]
  },
  {
   "cell_type": "code",
   "execution_count": 40,
   "metadata": {},
   "outputs": [],
   "source": [
    "train_data = MyDataset(file_path)\n",
    "dataloader = DataLoader(train_data, batch_size=1, shuffle=True, drop_last=True)"
   ]
  },
  {
   "cell_type": "code",
   "execution_count": 41,
   "metadata": {},
   "outputs": [
    {
     "name": "stdout",
     "output_type": "stream",
     "text": [
      "torch.Size([1, 3, 32, 32])\n",
      "torch.Size([1, 1, 20, 512])\n"
     ]
    }
   ],
   "source": [
    "images, labels = next(iter(dataloader))\n",
    "print(images.shape)  # Kích thước của batch ảnh\n",
    "print(labels.shape)  # Kích thước của batch caption embedding\n"
   ]
  },
  {
   "cell_type": "code",
   "execution_count": null,
   "metadata": {
    "execution": {
     "iopub.execute_input": "2025-03-09T07:44:44.277808Z",
     "iopub.status.busy": "2025-03-09T07:44:44.277570Z",
     "iopub.status.idle": "2025-03-09T07:44:44.770744Z",
     "shell.execute_reply": "2025-03-09T07:44:44.770057Z",
     "shell.execute_reply.started": "2025-03-09T07:44:44.277779Z"
    },
    "trusted": true
   },
   "outputs": [],
   "source": [
    "T = 400\n",
    "B_start = 0.0001\n",
    "B_end = 0.02\n",
    "B = torch.linspace(B_start, B_end, T).to(device)\n",
    "\n",
    "ddpm = ddpm_utils.DDPM(B, device)\n",
    "model = UNet_utils.UNet(\n",
    "    T, IMG_CH, IMG_SIZE, down_chs=(256, 256, 512), t_embed_dim=8, c_embed_dim=CLIP_FEATURES\n",
    ")\n",
    "print(\"Num params: \", sum(p.numel() for p in model.parameters()))\n",
    "# model_flowers = model.to(device)\n",
    "# Kiểm tra nếu có GPU\n",
    "if torch.cuda.is_available() and torch.cuda.device_count() > 1:\n",
    "    print(\"Sử dụng 2 GPU!\")\n",
    "    model = nn.DataParallel(model)  # Sử dụng cả 2 GPU\n",
    "model_flowers = model\n",
    "# Chuyển mô hình lên GPU\n",
    "device = torch.device(\"cuda\" if torch.cuda.is_available() else \"cpu\")\n",
    "model.to(device)\n",
    "\n"
   ]
  },
  {
   "cell_type": "markdown",
   "metadata": {},
   "source": [
    "The `get_context_mask` function will change a little bit. Since we're replacing our categorical input with a CLIP embedding, we no longer need to one-hot encode our label. We'll still randomly set values in our encoding to `0` to help the model learn without context."
   ]
  },
  {
   "cell_type": "code",
   "execution_count": null,
   "metadata": {
    "execution": {
     "iopub.execute_input": "2025-03-09T07:44:44.771865Z",
     "iopub.status.busy": "2025-03-09T07:44:44.771542Z",
     "iopub.status.idle": "2025-03-09T07:44:44.775617Z",
     "shell.execute_reply": "2025-03-09T07:44:44.774787Z",
     "shell.execute_reply.started": "2025-03-09T07:44:44.771834Z"
    },
    "trusted": true
   },
   "outputs": [],
   "source": [
    "def get_context_mask(c, drop_prob):\n",
    "    c_mask = torch.bernoulli(torch.ones_like(c).float() - drop_prob).to(device)\n",
    "    return c_mask"
   ]
  },
  {
   "cell_type": "markdown",
   "metadata": {},
   "source": [
    "Let's also recreate the `sample_flowers` function. This time, it will take our `text_list` as a parameter and convert it to a CLIP encoding. The `sample_w` function remains mostly the same and has been moved to the bottom of [ddpm_utils.py](utils/ddpm_utils.py)."
   ]
  },
  {
   "cell_type": "code",
   "execution_count": null,
   "metadata": {
    "execution": {
     "iopub.execute_input": "2025-03-09T07:44:44.776724Z",
     "iopub.status.busy": "2025-03-09T07:44:44.776450Z",
     "iopub.status.idle": "2025-03-09T07:44:44.791758Z",
     "shell.execute_reply": "2025-03-09T07:44:44.790967Z",
     "shell.execute_reply.started": "2025-03-09T07:44:44.776696Z"
    },
    "trusted": true
   },
   "outputs": [],
   "source": [
    "def sample_flowers(text_list):\n",
    "    text_tokens = clip.tokenize(text_list).to(device)\n",
    "    c = clip_model.encode_text(text_tokens).float()\n",
    "    x_gen, x_gen_store = ddpm_utils.sample_w(model, ddpm, INPUT_SIZE, T, c, device)\n",
    "    return x_gen, x_gen_store"
   ]
  },
  {
   "cell_type": "markdown",
   "metadata": {},
   "source": [
    "Time to get training! After about `50` `epochs`, the model will start generating something recognizable, and at `100` it will hit its stride. What do you think? Do the generated images match your descriptions?"
   ]
  },
  {
   "cell_type": "code",
   "execution_count": null,
   "metadata": {
    "execution": {
     "iopub.execute_input": "2025-03-09T07:44:44.792619Z",
     "iopub.status.busy": "2025-03-09T07:44:44.792426Z",
     "iopub.status.idle": "2025-03-09T07:44:44.807185Z",
     "shell.execute_reply": "2025-03-09T07:44:44.806458Z",
     "shell.execute_reply.started": "2025-03-09T07:44:44.792594Z"
    },
    "trusted": true
   },
   "outputs": [],
   "source": [
    "epochs= 2000\n",
    "c_drop_prob = 0.1\n",
    "lrate = 1e-4\n",
    "save_dir = \"/kaggle/working/\""
   ]
  },
  {
   "cell_type": "code",
   "execution_count": null,
   "metadata": {
    "execution": {
     "iopub.execute_input": "2025-03-09T07:44:44.808232Z",
     "iopub.status.busy": "2025-03-09T07:44:44.808018Z"
    },
    "trusted": true
   },
   "outputs": [],
   "source": [
    "optimizer = torch.optim.Adam(model.parameters(), lr=lrate)\n",
    "\n",
    "model.train()\n",
    "for epoch in range(epochs):\n",
    "    for step, batch in enumerate(dataloader):\n",
    "        optimizer.zero_grad()\n",
    "        t = torch.randint(0, T, (BATCH_SIZE,), device=device).float()\n",
    "        x, c = batch\n",
    "        c_mask = get_context_mask(c, c_drop_prob)\n",
    "        loss = ddpm.get_loss(model_flowers, x, t, c, c_mask)\n",
    "        loss.backward()\n",
    "        optimizer.step()\n",
    "\n",
    "    print(f\"Epoch {epoch} | Step {step:03d} | Loss: {loss.item()}\")\n",
    "    # if epoch % 5 == 0 or epoch == int(epochs - 1):\n",
    "    #     x_gen, x_gen_store = sample_flowers(text_list)\n",
    "    #     grid = make_grid(x_gen.cpu(), nrow=len(text_list))\n",
    "    #     save_image(grid, save_dir + f\"image_ep{epoch:02}.png\")\n",
    "    #     print(\"saved images in \" + save_dir + f\" for episode {epoch}\")"
   ]
  },
  {
   "cell_type": "markdown",
   "metadata": {},
   "source": [
    "Now that the model is trained, let's play with it! What happens when we give it a prompt of something not in the dataset? Or can you craft the perfect prompt to generate an image you can imagine?\n",
    "\n",
    "The art of crafting a prompt to get the results you desire is called **prompt engineering**, and as shown here, is dependent on the kind of data the model is trained on."
   ]
  },
  {
   "cell_type": "code",
   "execution_count": null,
   "metadata": {
    "trusted": true
   },
   "outputs": [],
   "source": [
    "# Change me\n",
    "text_list = [\n",
    "    \"A daisy \",\n",
    "    \"A sunflower shine\",\n",
    "    \"A rose beautiful\"\n",
    "]\n",
    "model.eval()\n",
    "x_gen, x_gen_store = sample_flowers(text_list)\n",
    "grid = make_grid(x_gen.cpu(), nrow=len(text_list))\n",
    "other_utils.show_tensor_image([grid])\n",
    "plt.show()\n"
   ]
  },
  {
   "cell_type": "markdown",
   "metadata": {},
   "source": [
    "Once you've found a set of images you enjoy, run the below cell to turn it into an animation. It will be saved to [05_images/flowers.gif](05_images/flowers.gif)"
   ]
  },
  {
   "cell_type": "code",
   "execution_count": null,
   "metadata": {
    "execution": {
     "iopub.execute_input": "2025-03-10T18:21:09.826830Z",
     "iopub.status.busy": "2025-03-10T18:21:09.826426Z",
     "iopub.status.idle": "2025-03-10T18:21:09.908088Z",
     "shell.execute_reply": "2025-03-10T18:21:09.906878Z",
     "shell.execute_reply.started": "2025-03-10T18:21:09.826798Z"
    },
    "trusted": true
   },
   "outputs": [],
   "source": [
    "torch.save(model_flowers.state_dict(), \"/kaggle/working/model_flowers.pth\")\n"
   ]
  },
  {
   "cell_type": "code",
   "execution_count": null,
   "metadata": {
    "trusted": true
   },
   "outputs": [],
   "source": [
    "grids = [other_utils.to_image(make_grid(x_gen.cpu(), nrow=len(text_list))) for x_gen in x_gen_store]\n",
    "other_utils.save_animation(grids, \"/kaggle/working/flowers.gif\")"
   ]
  }
 ],
 "metadata": {
  "accelerator": "GPU",
  "colab": {
   "gpuType": "T4",
   "provenance": []
  },
  "kaggle": {
   "accelerator": "nvidiaTeslaT4",
   "dataSources": [
    {
     "datasetId": 6779370,
     "sourceId": 10906876,
     "sourceType": "datasetVersion"
    },
    {
     "datasetId": 6781576,
     "sourceId": 10909750,
     "sourceType": "datasetVersion"
    }
   ],
   "dockerImageVersionId": 30918,
   "isGpuEnabled": true,
   "isInternetEnabled": true,
   "language": "python",
   "sourceType": "notebook"
  },
  "kernelspec": {
   "display_name": "Python 3",
   "language": "python",
   "name": "python3"
  },
  "language_info": {
   "codemirror_mode": {
    "name": "ipython",
    "version": 3
   },
   "file_extension": ".py",
   "mimetype": "text/x-python",
   "name": "python",
   "nbconvert_exporter": "python",
   "pygments_lexer": "ipython3",
   "version": "3.10.0"
  }
 },
 "nbformat": 4,
 "nbformat_minor": 4
}
