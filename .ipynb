{
 "cells": [
  {
   "cell_type": "code",
   "execution_count": 5,
   "metadata": {},
   "outputs": [
    {
     "name": "stdout",
     "output_type": "stream",
     "text": [
      "Input (x): torch.Size([2, 10, 64])\n",
      "Context: torch.Size([2, 15, 64])\n",
      "Output: torch.Size([2, 10, 64])\n",
      "All tests passed!\n"
     ]
    }
   ],
   "source": [
    "import torch\n",
    "import torch.nn as nn\n",
    "import torch.nn.functional as F\n",
    "\n",
    "class CrossAttention(nn.Module):\n",
    "    def __init__(self, dim, context_dim):\n",
    "        super().__init__()\n",
    "        self.to_q = nn.Linear(dim, dim, bias=False)\n",
    "        self.to_k = nn.Linear(context_dim, dim, bias=False)\n",
    "        self.to_v = nn.Linear(context_dim, dim, bias=False)\n",
    "        self.scale = dim ** -0.5  \n",
    "\n",
    "    def forward(self, x, context):\n",
    "        q = self.to_q(x)\n",
    "        k = self.to_k(context)\n",
    "        v = self.to_v(context)\n",
    "        attn = (q @ k.transpose(-2, -1)) * self.scale\n",
    "        attn = attn.softmax(dim=-1)\n",
    "        out = attn @ v\n",
    "        return out + x  # Residual Connection\n",
    "\n",
    "def test_cross_attention():\n",
    "    dim = 64  # Feature dimension\n",
    "    context_dim = 64  # Context dimension\n",
    "    batch_size = 2  # Batch size\n",
    "    seq_len_x = 10  # Sequence length of input\n",
    "    seq_len_ctx = 15  # Sequence length of context\n",
    "    \n",
    "    # Create dummy input tensors\n",
    "    x = torch.randn(batch_size, seq_len_x, dim)\n",
    "    context = torch.randn(batch_size, seq_len_ctx, context_dim)\n",
    "    \n",
    "    # Initialize CrossAttention module\n",
    "    cross_attn = CrossAttention(dim, context_dim)\n",
    "    \n",
    "    # Forward pass\n",
    "    output = cross_attn(x, context)\n",
    "    \n",
    "    # Print input and output\n",
    "    print(\"Input (x):\", x.shape)\n",
    "    print(\"Context:\", context.shape)\n",
    "    print(\"Output:\", output.shape)\n",
    "    \n",
    "    # Check output shape\n",
    "    assert output.shape == x.shape, f\"Expected shape {x.shape}, but got {output.shape}\"\n",
    "    \n",
    "    # Check if attention mechanism preserves input size\n",
    "    attn_scores = (cross_attn.to_q(x) @ cross_attn.to_k(context).transpose(-2, -1)) * cross_attn.scale\n",
    "    attn_probs = attn_scores.softmax(dim=-1)\n",
    "    assert torch.allclose(attn_probs.sum(dim=-1), torch.ones_like(attn_probs.sum(dim=-1)), atol=1e-5), \"Attention probabilities should sum to 1\"\n",
    "    \n",
    "    print(\"All tests passed!\")\n",
    "\n",
    "test_cross_attention()\n"
   ]
  },
  {
   "cell_type": "code",
   "execution_count": 8,
   "metadata": {},
   "outputs": [
    {
     "ename": "TypeError",
     "evalue": "a bytes-like object is required, not 'dict'",
     "output_type": "error",
     "traceback": [
      "\u001b[1;31m---------------------------------------------------------------------------\u001b[0m",
      "\u001b[1;31mTypeError\u001b[0m                                 Traceback (most recent call last)",
      "Cell \u001b[1;32mIn[8], line 13\u001b[0m\n\u001b[0;32m     10\u001b[0m img_data \u001b[38;5;241m=\u001b[39m df\u001b[38;5;241m.\u001b[39miloc[\u001b[38;5;241m0\u001b[39m][\u001b[38;5;124m\"\u001b[39m\u001b[38;5;124mimage\u001b[39m\u001b[38;5;124m\"\u001b[39m]  \u001b[38;5;66;03m# Lấy ảnh từ dòng đầu tiên\u001b[39;00m\n\u001b[0;32m     12\u001b[0m \u001b[38;5;66;03m# Chuyển bytes thành ảnh và hiển thị\u001b[39;00m\n\u001b[1;32m---> 13\u001b[0m image \u001b[38;5;241m=\u001b[39m Image\u001b[38;5;241m.\u001b[39mopen(\u001b[43mio\u001b[49m\u001b[38;5;241;43m.\u001b[39;49m\u001b[43mBytesIO\u001b[49m\u001b[43m(\u001b[49m\u001b[43mimg_data\u001b[49m\u001b[43m)\u001b[49m)\n\u001b[0;32m     14\u001b[0m plt\u001b[38;5;241m.\u001b[39mimshow(image)\n\u001b[0;32m     15\u001b[0m plt\u001b[38;5;241m.\u001b[39maxis(\u001b[38;5;124m\"\u001b[39m\u001b[38;5;124moff\u001b[39m\u001b[38;5;124m\"\u001b[39m)  \u001b[38;5;66;03m# Ẩn trục tọa độ\u001b[39;00m\n",
      "\u001b[1;31mTypeError\u001b[0m: a bytes-like object is required, not 'dict'"
     ]
    }
   ],
   "source": [
    "import pandas as pd\n",
    "import matplotlib.pyplot as plt\n",
    "from PIL import Image\n",
    "import io\n",
    "\n",
    "# Đọc file Parquet\n",
    "df = pd.read_parquet(\"0000.parquet\")\n",
    "\n",
    "# Giả sử cột chứa ảnh là 'image_bytes'\n",
    "img_data = df.iloc[0][\"image\"]  # Lấy ảnh từ dòng đầu tiên\n",
    "\n",
    "# Chuyển bytes thành ảnh và hiển thị\n",
    "image = Image.open(io.BytesIO(img_data))\n",
    "plt.imshow(image)\n",
    "plt.axis(\"off\")  # Ẩn trục tọa độ\n",
    "plt.show()\n"
   ]
  }
 ],
 "metadata": {
  "kernelspec": {
   "display_name": "Python 3",
   "language": "python",
   "name": "python3"
  },
  "language_info": {
   "codemirror_mode": {
    "name": "ipython",
    "version": 3
   },
   "file_extension": ".py",
   "mimetype": "text/x-python",
   "name": "python",
   "nbconvert_exporter": "python",
   "pygments_lexer": "ipython3",
   "version": "3.10.0"
  }
 },
 "nbformat": 4,
 "nbformat_minor": 2
}
